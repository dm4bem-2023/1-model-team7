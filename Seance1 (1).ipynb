{
 "cells": [
  {
   "cell_type": "code",
   "execution_count": 1,
   "id": "04d586a9-4e84-4921-8d34-78de5496c9e1",
   "metadata": {},
   "outputs": [],
   "source": [
    "import numpy as np\n",
    "import pandas as pd\n",
    "import matplotlib.pyplot as plt"
   ]
  },
  {
   "cell_type": "markdown",
   "id": "1aed3f51-5e7c-4181-b3dd-4d412005d8c8",
   "metadata": {},
   "source": [
    "# Building Project"
   ]
  },
  {
   "cell_type": "markdown",
   "id": "8f64d31f-0822-4524-842e-76bb71cfbb44",
   "metadata": {},
   "source": [
    "## Parameters\n",
    "### Dimension of the Building \n",
    "\n",
    "Each Room has a cubic shape\n",
    "\n",
    "https://github.com/dm4bem-2023/1-model-team7/blob/main/Shema%20Room%20(1).pdf"
   ]
  },
  {
   "cell_type": "code",
   "execution_count": 2,
   "id": "5477e2f9-2735-48e5-9e32-2ff6fe034aa5",
   "metadata": {
    "tags": []
   },
   "outputs": [],
   "source": [
    "l = 3\n",
    "Sg = l**2\n",
    "Sc = Si = 9 * Sg "
   ]
  },
  {
   "cell_type": "markdown",
   "id": "9e56fddc-ed2f-4162-ab85-ab3b641e8526",
   "metadata": {
    "tags": []
   },
   "source": [
    "We consider that M1,M2,M3 are inside the building and M4 is outside. Then the only exchange are between the inside and the outside with M4 and between the two rooms with M5\n",
    "\n",
    "### Definition of windows, doors, and walls\n",
    "We consider than the wall is made of a width of insulation and a width of concrete (eM=eI+eC)"
   ]
  },
  {
   "cell_type": "code",
   "execution_count": 3,
   "id": "9b62a3db-e4c2-4e7e-864a-aecd2231fd60",
   "metadata": {
    "tags": []
   },
   "outputs": [
    {
     "data": {
      "text/html": [
       "<div>\n",
       "<style scoped>\n",
       "    .dataframe tbody tr th:only-of-type {\n",
       "        vertical-align: middle;\n",
       "    }\n",
       "\n",
       "    .dataframe tbody tr th {\n",
       "        vertical-align: top;\n",
       "    }\n",
       "\n",
       "    .dataframe thead th {\n",
       "        text-align: right;\n",
       "    }\n",
       "</style>\n",
       "<table border=\"1\" class=\"dataframe\">\n",
       "  <thead>\n",
       "    <tr style=\"text-align: right;\">\n",
       "      <th></th>\n",
       "      <th>Conductivity</th>\n",
       "      <th>Density</th>\n",
       "      <th>Specific heat</th>\n",
       "      <th>Width</th>\n",
       "      <th>Surface</th>\n",
       "    </tr>\n",
       "  </thead>\n",
       "  <tbody>\n",
       "    <tr>\n",
       "      <th>Layer_out</th>\n",
       "      <td>0.027</td>\n",
       "      <td>55.0</td>\n",
       "      <td>1210</td>\n",
       "      <td>0.08</td>\n",
       "      <td>90</td>\n",
       "    </tr>\n",
       "    <tr>\n",
       "      <th>Layer_in</th>\n",
       "      <td>1.400</td>\n",
       "      <td>2400.0</td>\n",
       "      <td>880</td>\n",
       "      <td>0.20</td>\n",
       "      <td>90</td>\n",
       "    </tr>\n",
       "    <tr>\n",
       "      <th>Glass</th>\n",
       "      <td>1.400</td>\n",
       "      <td>2500.0</td>\n",
       "      <td>1210</td>\n",
       "      <td>0.04</td>\n",
       "      <td>18</td>\n",
       "    </tr>\n",
       "  </tbody>\n",
       "</table>\n",
       "</div>"
      ],
      "text/plain": [
       "           Conductivity  Density  Specific heat  Width  Surface\n",
       "Layer_out         0.027     55.0           1210   0.08       90\n",
       "Layer_in          1.400   2400.0            880   0.20       90\n",
       "Glass             1.400   2500.0           1210   0.04       18"
      ]
     },
     "execution_count": 3,
     "metadata": {},
     "output_type": "execute_result"
    }
   ],
   "source": [
    "concrete = {'Conductivity': 1.400,\n",
    "            'Density': 2400.0,\n",
    "            'Specific heat': 880,\n",
    "            'Width': 0.2,\n",
    "            'Surface': 10 * l**2}\n",
    "\n",
    "insulation = {'Conductivity': 0.027,\n",
    "              'Density': 55.0,\n",
    "              'Specific heat': 1210,\n",
    "              'Width': 0.08,\n",
    "              'Surface': 10 * l**2}\n",
    "\n",
    "glass = {'Conductivity': 1.4,\n",
    "         'Density': 2500,\n",
    "         'Specific heat': 1210,\n",
    "         'Width': 0.04,\n",
    "         'Surface': 2*(l**2)}\n",
    "\n",
    "wall = pd.DataFrame(wamm, iout': insulation,\n",
    "                               'Layer_in': concrete,\n",
    "                               'Glass': glass})\n",
    "                              orient='index')\n"
   ]
  },
  {
   "cell_type": "markdown",
   "id": "b60e1fd8-406f-4e9f-ab2c-36f80326d170",
   "metadata": {},
   "source": [
    "### Thermal circuit"
   ]
  },
  {
   "cell_type": "code",
   "execution_count": null,
   "id": "6888228f-8585-4394-a809-e0c4f36fd205",
   "metadata": {},
   "outputs": [],
   "source": []
  }
 ],
 "metadata": {
  "kernelspec": {
   "display_name": "Python 3 (ipykernel)",
   "language": "python",
   "name": "python3"
  },
  "language_info": {
   "codemirror_mode": {
    "name": "ipython",
    "version": 3
   },
   "file_extension": ".py",
   "mimetype": "text/x-python",
   "name": "python",
   "nbconvert_exporter": "python",
   "pygments_lexer": "ipython3",
   "version": "3.8.8"
  }
 },
 "nbformat": 4,
 "nbformat_minor": 5
}
